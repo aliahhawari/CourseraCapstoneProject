{
 "cells": [
  {
   "cell_type": "markdown",
   "metadata": {},
   "source": [
    "# Coursera Capstone Project"
   ]
  },
  {
   "cell_type": "markdown",
   "metadata": {},
   "source": [
    "This notebook will be used for Capstone project. \n",
    "\n",
    "Import libraries"
   ]
  },
  {
   "cell_type": "code",
   "execution_count": 1,
   "metadata": {},
   "outputs": [],
   "source": [
    "import pandas as pd\n",
    "import numpy as np"
   ]
  },
  {
   "cell_type": "markdown",
   "metadata": {},
   "source": [
    "# Introduction / Business Problem"
   ]
  },
  {
   "cell_type": "markdown",
   "metadata": {},
   "source": [
    "From the Washington State Department of Transportation 2015 Annual Collision Summary, a crash occured every 4.5 minutes. Devastatingly, a person died in a crash every 16 hours and a person was injured in a crash every 11 minutes . There were a total of 117,053 collisions with 499 of them resulted in fatality and 1752 of them with serious injuries [1]. In 2018 alone, there were 10, 249 police reported collisions on Seattle street [2].\n",
    "\n",
    "According to the US Department of Transportation's National Highway Traffic Safety Administration (NHTSA) motor vehicle crashes imposed USD 836 billion in economic cost and societal harm on the country in 2010. And for the 2017 financial year, NHTSA requests USD 1.181 billion to effectively continue its mission of ensuring safer drivers, safer cars, and safer roads [3].\n"
   ]
  },
  {
   "cell_type": "markdown",
   "metadata": {},
   "source": [
    "# Data"
   ]
  },
  {
   "cell_type": "markdown",
   "metadata": {},
   "source": [
    "The dataset used for this project is based on reported car collisions in Seattle, Washington from 2004 to 2020. The dataset lists the severity of each car accidents along with the time and conditions under which each accident occurred. There are 37 attributes included in the raw dataset. \n",
    "\n"
   ]
  },
  {
   "cell_type": "code",
   "execution_count": null,
   "metadata": {},
   "outputs": [],
   "source": []
  },
  {
   "cell_type": "code",
   "execution_count": null,
   "metadata": {},
   "outputs": [],
   "source": []
  },
  {
   "cell_type": "code",
   "execution_count": null,
   "metadata": {},
   "outputs": [],
   "source": []
  },
  {
   "cell_type": "code",
   "execution_count": null,
   "metadata": {},
   "outputs": [],
   "source": []
  },
  {
   "cell_type": "markdown",
   "metadata": {},
   "source": [
    "# References "
   ]
  },
  {
   "cell_type": "markdown",
   "metadata": {},
   "source": [
    "1. Washington State Department of Transportation 2015 Annual Collision Summary. https://wsdot.wa.gov/mapsdata/crash/pdf/2015_Annual_Collision_Summary.pdf\n",
    "\n",
    "2. Seattle Department of Transportation 2019 Traffic Report. https://www.seattle.gov/Documents/Departments/SDOT/VisionZero/2019_Traffic_Report.pdf\n",
    "\n",
    "3. National Highway Traffic Safety Administration (NHTSA) Budget Estimates (Fiscal Year 2017). https://www.nhtsa.gov/sites/nhtsa.dot.gov/files/fy2017-nhtsa_cbj_final_02_2016.pdf\n"
   ]
  },
  {
   "cell_type": "code",
   "execution_count": null,
   "metadata": {},
   "outputs": [],
   "source": []
  }
 ],
 "metadata": {
  "kernelspec": {
   "display_name": "Python 3",
   "language": "python",
   "name": "python3"
  },
  "language_info": {
   "codemirror_mode": {
    "name": "ipython",
    "version": 3
   },
   "file_extension": ".py",
   "mimetype": "text/x-python",
   "name": "python",
   "nbconvert_exporter": "python",
   "pygments_lexer": "ipython3",
   "version": "3.7.6"
  }
 },
 "nbformat": 4,
 "nbformat_minor": 4
}
